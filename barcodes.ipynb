{
 "cells": [
  {
   "cell_type": "code",
   "execution_count": 1,
   "metadata": {
    "collapsed": false
   },
   "outputs": [
    {
     "name": "stdout",
     "output_type": "stream",
     "text": [
      "(16, 16)\n(8, 8)\n9\n(8, 8)\n(64, 128)\n"
     ]
    },
    {
     "name": "stdout",
     "output_type": "stream",
     "text": [
      "[[ 0.]\n [ 0.]\n [ 0.]\n ..., \n [ 0.]\n [ 0.]\n [ 0.]]\n"
     ]
    }
   ],
   "source": [
    "import cv2\n",
    "\n",
    "\n",
    "\n",
    "hog = cv2.HOGDescriptor()\n",
    "\n",
    "\n",
    "print(hog.blockSize)\n",
    "print(hog.blockStride)\n",
    "print(hog.nbins)\n",
    "print(hog.cellSize)\n",
    "print(hog.winSize)\n",
    "\n",
    "\n",
    "\n"
   ]
  },
  {
   "cell_type": "code",
   "execution_count": 87,
   "metadata": {},
   "outputs": [
    {
     "data": {
      "text/plain": [
       "array([ 0.01285062,  0.00122872,  0.        ,  0.00068688,  0.01006214,\n        0.        ,  0.00245745,  0.00137375,  0.00347535,  0.        ,\n        0.        ,  0.        ,  0.        ,  0.        ,  0.        ,\n        0.        ,  0.05140247,  0.0079867 ,  0.        ,  0.00274751,\n        0.03923873,  0.        ,  0.0079867 ,  0.00274751,  0.04271408,\n        0.0079867 ,  0.        ,  0.00274751,  0.04651239,  0.        ,\n        0.01167287,  0.00480814,  0.05899908,  0.01535904,  0.        ,\n        0.00686877,  0.05208934,  0.        ,  0.00921542,  0.00343439,\n        0.07120379,  0.00921542,  0.        ,  0.00343439,  0.02812579,\n        0.        ,  0.00675798,  0.00206063,  0.49175781,  0.07372339,\n        0.        ,  0.02953572,  0.4683992 ,  0.        ,  0.0847819 ,\n        0.03571761,  0.47401711,  0.07618084,  0.        ,  0.03090947,\n        0.51325586,  0.        ,  0.08109573,  0.03365698])"
      ]
     },
     "execution_count": 87,
     "metadata": {},
     "output_type": "execute_result"
    }
   ],
   "source": [
    "import cv2\n",
    "import numpy as np\n",
    "\n",
    "def my_hog(img):\n",
    "    gx = cv2.Sobel(img, cv2.CV_32F, 1, 0)\n",
    "    gy = cv2.Sobel(img, cv2.CV_32F, 0, 1)\n",
    "    mag, ang = cv2.cartToPolar(gx, gy)\n",
    "    \n",
    "    bin_n = 16\n",
    "\n",
    "    # quantizing binvalues in (0...16)\n",
    "    bins = np.int32(bin_n*ang/(2*np.pi))\n",
    "\n",
    "    # Divide to 4 sub-squares\n",
    "    bin_cells = bins[:10,:10], bins[10:,:10], bins[:10,10:], bins[10:,10:]\n",
    "    mag_cells = mag[:10,:10], mag[10:,:10], mag[:10,10:], mag[10:,10:]\n",
    "    hists = [np.bincount(b.ravel(), m.ravel(), bin_n) for b, m in zip(bin_cells, mag_cells)]\n",
    "    hist = np.hstack(hists)\n",
    "    norma = np.sum(hist * hist)\n",
    "    hist = hist / np.sqrt(norma)\n",
    "    return hist\n",
    "\n",
    "img = cv2.imread('Merged/18.png')\n",
    "img = cv2.cvtColor(img, cv2.COLOR_BGR2GRAY)\n",
    "\n",
    "my_hog(img)    \n",
    "    \n",
    "    \n",
    "    \n",
    "    \n",
    "    \n",
    "    "
   ]
  },
  {
   "cell_type": "code",
   "execution_count": 81,
   "metadata": {},
   "outputs": [
    {
     "name": "stdout",
     "output_type": "stream",
     "text": [
      "7000 7000\n"
     ]
    }
   ],
   "source": [
    "import csv\n",
    "import cv2\n",
    "import numpy as np\n",
    "\n",
    "\n",
    "blockSize = (8, 8)\n",
    "blockStride = (4, 4)\n",
    "nbins = 4\n",
    "cellSize = (4, 4)\n",
    "winSize = (8, 16)\n",
    "derivAperture = 1\n",
    "winSigma = 4.0\n",
    "histogramNormType = 0\n",
    "L2HysThreshold = 2.0000000000000001e-01\n",
    "gammaCorrection = 0\n",
    "nlevels = 32\n",
    "hog = cv2.HOGDescriptor(winSize, blockSize, blockStride, cellSize, nbins, derivAperture, winSigma, histogramNormType, L2HysThreshold, gammaCorrection, nlevels)\n",
    "\n",
    "with open('train_labels.csv') as labels:\n",
    "    reader = csv.DictReader(labels)\n",
    "    img_files = []\n",
    "    y_labels = []\n",
    "    for row in reader:\n",
    "        img_files.append('./Train/' + row['category'] + '/' + row['id'])\n",
    "        y_labels.append(int(row['category']))\n",
    "\n",
    "print(len(y_labels), len(img_files))\n"
   ]
  },
  {
   "cell_type": "code",
   "execution_count": 88,
   "metadata": {},
   "outputs": [
    {
     "name": "stdout",
     "output_type": "stream",
     "text": [
      "7000\n"
     ]
    }
   ],
   "source": [
    "x_data = []\n",
    "\n",
    "for filename in img_files:\n",
    "    img = cv2.imread(filename)\n",
    "    img = cv2.cvtColor(img, cv2.COLOR_BGR2RGB)\n",
    "    hog_desc = my_hog(img)\n",
    "    x_data.append(hog_desc)\n",
    "    \n",
    "print(len(x_data))"
   ]
  },
  {
   "cell_type": "code",
   "execution_count": 89,
   "metadata": {
    "collapsed": false
   },
   "outputs": [
    {
     "data": {
      "text/plain": [
       "SVC(C=1.0, cache_size=200, class_weight=None, coef0=0.0,\n  decision_function_shape='ovr', degree=3, gamma='auto', kernel='rbf',\n  max_iter=-1, probability=False, random_state=None, shrinking=True,\n  tol=0.001, verbose=False)"
      ]
     },
     "execution_count": 89,
     "metadata": {},
     "output_type": "execute_result"
    }
   ],
   "source": [
    "from sklearn import svm\n",
    "\n",
    "clf = svm.SVC()\n",
    "clf.fit(x_data, y_labels)\n",
    "\n"
   ]
  },
  {
   "cell_type": "code",
   "execution_count": 95,
   "metadata": {},
   "outputs": [
    {
     "name": "stdout",
     "output_type": "stream",
     "text": [
      "1750\n['0.png', '0.png.png', '10079.png', '1018.png', '10272.png', '10317.png', '10317.png.png', '10368.png', '10368.png.png', '10428.png']\n"
     ]
    }
   ],
   "source": [
    "import os\n",
    "import pandas as pd\n",
    "test_files = os.listdir('Merged')\n",
    "print(len(test_files))\n",
    "print(test_files[:10])\n",
    "\n",
    "descriptors = []\n",
    "\n",
    "for filename in test_files:\n",
    "    img = cv2.imread('Merged/' + filename)\n",
    "    img = cv2.cvtColor(img, cv2.COLOR_BGR2GRAY)\n",
    "    descriptors.append(my_hog(img))\n",
    "\n",
    "label = clf.predict(descriptors)\n",
    "\n",
    "df = pd.DataFrame()\n",
    "df['fname'] = test_files\n",
    "df['class'] = label\n",
    "df.to_csv('result.csv', index=False, header=True)\n",
    "\n"
   ]
  },
  {
   "cell_type": "code",
   "execution_count": null,
   "metadata": {},
   "outputs": [],
   "source": []
  }
 ],
 "metadata": {
  "kernelspec": {
   "display_name": "Python 2",
   "language": "python",
   "name": "python2"
  },
  "language_info": {
   "codemirror_mode": {
    "name": "ipython",
    "version": 2
   },
   "file_extension": ".py",
   "mimetype": "text/x-python",
   "name": "python",
   "nbconvert_exporter": "python",
   "pygments_lexer": "ipython2",
   "version": "2.7.6"
  }
 },
 "nbformat": 4,
 "nbformat_minor": 0
}
